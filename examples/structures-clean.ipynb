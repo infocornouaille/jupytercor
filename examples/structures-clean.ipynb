{
 "cells": [
  {
   "cell_type": "markdown",
   "metadata": {},
   "source": [
    "# TP (2/7) initiation au langage Python : les structures conditionnelles\n",
    "\n",
    "**Remarque préliminaire**\n",
    "\n",
    "## 1- if ou if…else\n",
    "\n",
    "### a) Instruction if\n",
    "\n",
    "Exécutez la *cellules Code* suivante (sélectionner la “cellule Code”,\n",
    "puis cliquer sur *Exécuter* ou utiliser le raccourci clavier *CTRL +\n",
    "Entrée*).\n"
   ]
  },
  {
   "cell_type": "code",
   "execution_count": null,
   "metadata": {},
   "outputs": [],
   "source": [
    "x = 11\n",
    "if x > 10:\n",
    "    print(\"Vous avez la moyenne\")\n",
    "print(\"Fin\")"
   ]
  },
  {
   "cell_type": "markdown",
   "metadata": {},
   "source": [
    "On constate ici que lorsque *x* contient l’entier 11, la condition\n",
    "booléenne *x* \\> 10 est vraie donc la ligne 3 est exécutée. Une fois que\n",
    "cette ligne 3 est exécutée, le script se poursuit, on “sort du if” et le\n",
    "script se poursuit à la ligne 4.\n",
    "\n",
    "Attention :\n",
    "\n",
    "- le : (deux-points) à la fin de la ligne 2 est obligatoire pour\n",
    "  respecter la syntaxe Python.\n",
    "\n",
    "- L’indentation (décalage vers le droite d’une tabulation) marque les\n",
    "  lignes qui composent le bloc du if. Ici ce bloc du if est composé de\n",
    "  la seule ligne 3.\n",
    "\n",
    "- La ligne 4 n’est plus indentée, ce qui signale qu’elle ne fait plus\n",
    "  partie du bloc du if.\n",
    "\n",
    "Exécutez la *cellules Code* suivante :\n"
   ]
  },
  {
   "cell_type": "code",
   "execution_count": null,
   "metadata": {},
   "outputs": [],
   "source": [
    "x = 9\n",
    "if x > 10:\n",
    "    print(\"Vous avez la moyenne\")\n",
    "print(\"Fin\")"
   ]
  },
  {
   "cell_type": "markdown",
   "metadata": {},
   "source": [
    "Ici pour la valeur de 9, la condition booléenne *x* \\> 10 de la ligne 2\n",
    "est fausse donc le bloc du if n’est pas exécuté. Autrement dit on passe\n",
    "directement à la ligne 4 sans exécuter la ligne 3.\n",
    "\n",
    "### b) Instructions if…else\n",
    "\n",
    "Exécutez le script suivant :\n"
   ]
  },
  {
   "cell_type": "code",
   "execution_count": null,
   "metadata": {},
   "outputs": [],
   "source": [
    "x = 11\n",
    "if x > 10:\n",
    "    print(\"Vous avez la moyenne\")\n",
    "else:\n",
    "    print(\"Vous n'avez pas la moyenne\")\n",
    "print(\"Fin\")"
   ]
  },
  {
   "cell_type": "markdown",
   "metadata": {},
   "source": [
    "Lorsque *x* contient l’entier 11, la condition booléenne *x* \\> 10 est\n",
    "vraie donc la ligne 3 est exécutée. Une fois cette ligne 3 est exécutée,\n",
    "le script se poursuit, on “sort du if” et le else n’est pas exécuté, le\n",
    "script se poursuit à la ligne 6.\n",
    "\n",
    "Dans la ligne 4, le else est suivi d’un : (deux-points) sans condition\n",
    "booléenne.\n",
    "\n",
    "Exécutez le script suivant :\n"
   ]
  },
  {
   "cell_type": "code",
   "execution_count": null,
   "metadata": {},
   "outputs": [],
   "source": [
    "x = 9\n",
    "if x > 10:\n",
    "    print(\"Vous avez la moyenne\")\n",
    "else:\n",
    "    print(\"Vous n'avez pas la moyenne\")\n",
    "print(\"Fin\")"
   ]
  },
  {
   "cell_type": "markdown",
   "metadata": {},
   "source": [
    "Lorsque *x* contient l’entier 9, la condition booléenne *x* \\> 10 est\n",
    "fausse donc la ligne 3 n’est pas exécutée. On passe alors au else, la\n",
    "ligne 5 est exécutée, et le script se termine par la ligne 6.\n"
   ]
  },
  {
   "cell_type": "markdown",
   "metadata": {},
   "source": [
    "## 2- instructions if…elif…else\n",
    "\n",
    "Exécuter les *cellules Code* suivantes :\n"
   ]
  },
  {
   "cell_type": "code",
   "execution_count": null,
   "metadata": {},
   "outputs": [],
   "source": [
    "x = -5\n",
    "if x < 0:\n",
    "    print(\"Le nombre est strictement négatif\")\n",
    "elif x == 0:\n",
    "    print(\"Le nombre est nul\")\n",
    "else:\n",
    "    print(\"Le nombre est strictement positif\")\n",
    "print(\"Fin\")"
   ]
  },
  {
   "cell_type": "code",
   "execution_count": null,
   "metadata": {},
   "outputs": [],
   "source": [
    "x = 0\n",
    "if x < 0:\n",
    "    print(\"Le nombre est strictement négatif\")\n",
    "elif x == 0:\n",
    "    print(\"Le nombre est nul\")\n",
    "else:\n",
    "    print(\"Le nombre est strictement positif\")\n",
    "print(\"Fin\")"
   ]
  },
  {
   "cell_type": "code",
   "execution_count": null,
   "metadata": {},
   "outputs": [],
   "source": [
    "x = 110\n",
    "if x < 0:\n",
    "    print(\"Le nombre est strictement négatif\")\n",
    "elif x == 0:\n",
    "    print(\"Le nombre est nul\")\n",
    "else:\n",
    "    print(\"Le nombre est strictement positif\")\n",
    "print(\"Fin\")"
   ]
  },
  {
   "cell_type": "markdown",
   "metadata": {},
   "source": [
    "A noter que :\n",
    "\n",
    "- elif est obligatoirement suivi d’une condition booléenne et se termine\n",
    "  par un : (deux-points).\n",
    "\n",
    "- On n’est forcément dans un des trois cas : *x* \\< 10 (cas du if) ou\n",
    "  *x* =  = 0 (cas du elif) ou *x* \\> 10 (cas du else). Lorsqu’un de ces\n",
    "  trois booléens est vrai, on passe directement à la ligne 8 puisque les\n",
    "  autres situations ne peuvent pas arriver.\n",
    "\n",
    "Le script suivant semble donner le même résultat, pourtant il est moins\n",
    "performant que le précédent car chacune des lignes 2, 4 et 6 est\n",
    "toujours exécutée.\n"
   ]
  },
  {
   "cell_type": "code",
   "execution_count": null,
   "metadata": {},
   "outputs": [],
   "source": [
    "x = 110\n",
    "if x < 0:\n",
    "    print(\"Le nombre est strictement négatif\")\n",
    "if x == 0:\n",
    "    print(\"Le nombre est nul\")\n",
    "if x > 0:\n",
    "    print(\"Le nombre est strictement positif\")\n",
    "print(\"Fin\")"
   ]
  },
  {
   "cell_type": "markdown",
   "metadata": {},
   "source": [
    "Il est possible d’ajouter autant de elif qu’on souhaite comme le montre\n",
    "l’exemple suivant :\n"
   ]
  },
  {
   "cell_type": "code",
   "execution_count": null,
   "metadata": {},
   "outputs": [],
   "source": [
    "def tarif(age, prix):\n",
    "    if age <= 5:\n",
    "        tar = 0\n",
    "    elif age < 10:\n",
    "        tar = prix * 0.5\n",
    "    elif age < 15:\n",
    "        tar = prix * 0.75\n",
    "    elif age < 65:\n",
    "        tar = prix\n",
    "    else:\n",
    "        tar = prix * 0.9\n",
    "    return tar\n",
    "\n",
    "\n",
    "tarif(25, 20)"
   ]
  },
  {
   "cell_type": "markdown",
   "metadata": {},
   "source": [
    "Lorsque *age* prend la valeur de 25, les booléens des lignes 2, 4 et 6\n",
    "sont testés et sont à False. Donc les lignes qui suivent ne sont pas\n",
    "exécutées. Puis, le booléen de la ligne 8 est testé. Comme *age* \\< 65\n",
    "est True, on exécute la ligne 9, et on passe directement à la ligne 12\n",
    "du return tarif.\n"
   ]
  },
  {
   "cell_type": "markdown",
   "metadata": {},
   "source": [
    "## 3- Exercices\n",
    "\n",
    "**Exercice 1** :\n",
    "\n",
    "Soit *x* un réel. On rappelle la définition de la **valeur absolue** de\n",
    "x.\n",
    "\n",
    "\\|*x*\\| =  − *x* si *x* ≤ 0.\n",
    "\n",
    "\\|*x*\\| = *x* si *x* \\> 0.\n",
    "\n",
    "Compléter le script suivant pour qu’il renvoie la valeur absolue de  − 5\n",
    "et de 7.\n"
   ]
  },
  {
   "cell_type": "code",
   "execution_count": null,
   "metadata": {},
   "outputs": [],
   "source": [
    "def absolue(x):\n",
    "    if ...:\n",
    "        return -x\n",
    "    else:\n",
    "        return ...\n",
    "\n",
    "\n",
    "absolue(-5)\n",
    "absolue(7)"
   ]
  },
  {
   "cell_type": "markdown",
   "metadata": {},
   "source": [
    "**Exercice 2** :\n",
    "\n",
    "Compléter le script ci-après pour que :\n",
    "\n",
    "- Si la température T est inférieure ou égale à 0°C, il affiche « C’est\n",
    "  de la glace ».\n",
    "\n",
    "- Si elle est strictement supérieure à 0°C et strictement inférieure à\n",
    "  100°C, il affiche « C’est de l’eau liquide ».\n",
    "\n",
    "- Si elle est supérieure ou égale à 100°C, il affiche « C’est de la\n",
    "  vapeur ».\n"
   ]
  },
  {
   "cell_type": "code",
   "execution_count": null,
   "metadata": {},
   "outputs": [],
   "source": [
    "def etat(T):\n",
    "    if ...:\n",
    "        ...\n",
    "    elif ...:\n",
    "        ...\n",
    "    else:\n",
    "        ...\n",
    "\n",
    "\n",
    "etat(-10)\n",
    "etat(50)\n",
    "etat(200)"
   ]
  },
  {
   "cell_type": "markdown",
   "metadata": {},
   "source": [
    "**Exercice 3** :\n",
    "\n",
    "On souhaite modéliser le jeu de Pierre-feuille-ciseaux contre un\n",
    "ordinateur.  \n",
    "![image1.png](images/1-image1.png)  \n",
    "  \n",
    "\n",
    "On suppose que l’ordinateur choisit un entier *ord* aléatoirement :\n",
    "\n",
    "- Si *ord*=1 alors l’ordinateur joue feuille\n",
    "\n",
    "- Si *ord*=2 alors l’ordinateur joue ciseaux\n",
    "\n",
    "- Si *ord*=3 alors l’ordinateur joue pierre\n",
    "\n",
    "L’entier *choix* représentera le choix de l’utilisateur. De la même\n",
    "manière :\n",
    "\n",
    "- Si *choix*=1 alors l’utilisateur joue feuille\n",
    "\n",
    "- Si *choix*=2 alors l’utilisateur joue ciseaux\n",
    "\n",
    "- Si *choix*=3 alors l’utilisateur joue pierre\n",
    "\n",
    "De façon générale, la pierre bat les ciseaux (en les émoussant), les\n",
    "ciseaux battent la feuille (en la coupant), la feuille bat la pierre (en\n",
    "l’enveloppant).\n",
    "\n",
    "Compléter le programme suivant pour qu’il modélise le jeu contre\n",
    "l’ordinateur.\n"
   ]
  },
  {
   "cell_type": "code",
   "execution_count": null,
   "metadata": {},
   "outputs": [],
   "source": [
    "from random import *\n",
    "\n",
    "\n",
    "def jeu(choix):\n",
    "    ord = randint(1, 3)  # randint(1,3) renvoie un entier aléatoire parmi 1, 2 ou 3.\n",
    "    ...\n",
    "\n",
    "\n",
    "jeu(1)"
   ]
  }
 ],
 "metadata": {
  "kernelspec": {
   "display_name": "Python 3.8.9 64-bit",
   "language": "python",
   "name": "python3"
  },
  "language_info": {
   "codemirror_mode": {
    "name": "ipython",
    "version": 3
   },
   "file_extension": ".py",
   "mimetype": "text/x-python",
   "name": "python",
   "nbconvert_exporter": "python",
   "pygments_lexer": "ipython3",
   "version": "3.9.6 (default, Oct 18 2022, 12:41:40) \n[Clang 14.0.0 (clang-1400.0.29.202)]"
  },
  "vscode": {
   "interpreter": {
    "hash": "31f2aee4e71d21fbe5cf8b01ff0e069b9275f58929596ceb00d14d90e3e16cd6"
   }
  }
 },
 "nbformat": 4,
 "nbformat_minor": 2
}
