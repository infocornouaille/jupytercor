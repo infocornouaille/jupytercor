{
 "cells": [
  {
   "cell_type": "markdown",
   "metadata": {},
   "source": [
    "<h1><center><span style=\"color:#369;background:#fdf;padding: 10px 30px 10px 30px;border: 3px solid #369;border-radius:7px;\">TP algorithmes gloutons</span></center></h1>"
   ]
  },
  {
   "cell_type": "markdown",
   "metadata": {},
   "source": [
    "# 1. Le problème du rendu de monnaie\n",
    "Rappel : le problème du rendu de monnaie consiste à déterminer le nombre minimal de billets et pièces nécessaires pour rendre une somme donnée. Dans toute la suite, les « pièces » désignent indifféremment les véritables pièces que les billets.\n",
    "Par exemple, supposons qu’on dispose d’un système monétaire formé des valeurs 200, 100, 50, 20, 10, 5, 2 et 1 €. Dans cet exemple, pour simplifier, les centimes et le billet de 500 € sont ignorés.\n",
    "\n",
    "On a mis en place l'algorithme suivant :\n",
    "![image.png](images/1-image.png)\n",
    "#### Il s'agit bien d'un algorithme glouton car à chaque étape, on fait le meilleur choix sans revenir en arrière."
   ]
  },
  {
   "cell_type": "markdown",
   "metadata": {},
   "source": [
    " <div style=\"padding:10px ;border:solid 4px lightblue; border-radius: 10px; background-color:aliceblue;\">\n",
    "\n",
    "### Question 1\n",
    "    \n",
    "Compléter la fonction `renduMonnaie` ci-dessous qui prend comme argument un entier `s` et qui renvoie la liste minimale des pièces à rendre de somme égale à `s`.\n",
    "    \n",
    "Par exemple, `renduMonnaie(43)` devra renvoyer la liste `[20,20,2,1]`."
   ]
  },
  {
   "cell_type": "code",
   "execution_count": null,
   "metadata": {},
   "outputs": [],
   "source": [
    "valeurs = [200, 100, 50, 20, 10, 5, 2, 1]\n",
    "\n",
    "\n",
    "def renduMonnaie(s):\n",
    "    \"\"\"In : un entier s\n",
    "    Out: liste des pièces à rendre de somme s\"\"\"\n",
    "    L = []\n",
    "    i = 0\n",
    "    while s > 0:\n",
    "        if valeurs[i] <= s:\n",
    "            ...\n",
    "            ...\n",
    "        else:\n",
    "            ...\n",
    "    return L"
   ]
  },
  {
   "cell_type": "code",
   "execution_count": null,
   "metadata": {},
   "outputs": [],
   "source": [
    "# Jeu de tests"
   ]
  },
  {
   "cell_type": "code",
   "execution_count": null,
   "metadata": {},
   "outputs": [],
   "source": [
    "# encore un test"
   ]
  },
  {
   "cell_type": "code",
   "execution_count": null,
   "metadata": {
    "deletable": false,
    "editable": false
   },
   "outputs": [],
   "source": [
    "# Test de la fonction précédente\n",
    "# me permet de voir que votre fonction à l'air correcte, c'est le cas si cette cellule ne renvoie pas d'erreur\n",
    "valeurs = [200, 100, 50, 20, 10, 5, 2, 1]\n",
    "assert [renduMonnaie(s) for s in range(100)] == [\n",
    "    [],\n",
    "    [1],\n",
    "    [2],\n",
    "    [2, 1],\n",
    "    [2, 2],\n",
    "    [5],\n",
    "    [5, 1],\n",
    "    [5, 2],\n",
    "    [5, 2, 1],\n",
    "    [5, 2, 2],\n",
    "    [10],\n",
    "    [10, 1],\n",
    "    [10, 2],\n",
    "    [10, 2, 1],\n",
    "    [10, 2, 2],\n",
    "    [10, 5],\n",
    "    [10, 5, 1],\n",
    "    [10, 5, 2],\n",
    "    [10, 5, 2, 1],\n",
    "    [10, 5, 2, 2],\n",
    "    [20],\n",
    "    [20, 1],\n",
    "    [20, 2],\n",
    "    [20, 2, 1],\n",
    "    [20, 2, 2],\n",
    "    [20, 5],\n",
    "    [20, 5, 1],\n",
    "    [20, 5, 2],\n",
    "    [20, 5, 2, 1],\n",
    "    [20, 5, 2, 2],\n",
    "    [20, 10],\n",
    "    [20, 10, 1],\n",
    "    [20, 10, 2],\n",
    "    [20, 10, 2, 1],\n",
    "    [20, 10, 2, 2],\n",
    "    [20, 10, 5],\n",
    "    [20, 10, 5, 1],\n",
    "    [20, 10, 5, 2],\n",
    "    [20, 10, 5, 2, 1],\n",
    "    [20, 10, 5, 2, 2],\n",
    "    [20, 20],\n",
    "    [20, 20, 1],\n",
    "    [20, 20, 2],\n",
    "    [20, 20, 2, 1],\n",
    "    [20, 20, 2, 2],\n",
    "    [20, 20, 5],\n",
    "    [20, 20, 5, 1],\n",
    "    [20, 20, 5, 2],\n",
    "    [20, 20, 5, 2, 1],\n",
    "    [20, 20, 5, 2, 2],\n",
    "    [50],\n",
    "    [50, 1],\n",
    "    [50, 2],\n",
    "    [50, 2, 1],\n",
    "    [50, 2, 2],\n",
    "    [50, 5],\n",
    "    [50, 5, 1],\n",
    "    [50, 5, 2],\n",
    "    [50, 5, 2, 1],\n",
    "    [50, 5, 2, 2],\n",
    "    [50, 10],\n",
    "    [50, 10, 1],\n",
    "    [50, 10, 2],\n",
    "    [50, 10, 2, 1],\n",
    "    [50, 10, 2, 2],\n",
    "    [50, 10, 5],\n",
    "    [50, 10, 5, 1],\n",
    "    [50, 10, 5, 2],\n",
    "    [50, 10, 5, 2, 1],\n",
    "    [50, 10, 5, 2, 2],\n",
    "    [50, 20],\n",
    "    [50, 20, 1],\n",
    "    [50, 20, 2],\n",
    "    [50, 20, 2, 1],\n",
    "    [50, 20, 2, 2],\n",
    "    [50, 20, 5],\n",
    "    [50, 20, 5, 1],\n",
    "    [50, 20, 5, 2],\n",
    "    [50, 20, 5, 2, 1],\n",
    "    [50, 20, 5, 2, 2],\n",
    "    [50, 20, 10],\n",
    "    [50, 20, 10, 1],\n",
    "    [50, 20, 10, 2],\n",
    "    [50, 20, 10, 2, 1],\n",
    "    [50, 20, 10, 2, 2],\n",
    "    [50, 20, 10, 5],\n",
    "    [50, 20, 10, 5, 1],\n",
    "    [50, 20, 10, 5, 2],\n",
    "    [50, 20, 10, 5, 2, 1],\n",
    "    [50, 20, 10, 5, 2, 2],\n",
    "    [50, 20, 20],\n",
    "    [50, 20, 20, 1],\n",
    "    [50, 20, 20, 2],\n",
    "    [50, 20, 20, 2, 1],\n",
    "    [50, 20, 20, 2, 2],\n",
    "    [50, 20, 20, 5],\n",
    "    [50, 20, 20, 5, 1],\n",
    "    [50, 20, 20, 5, 2],\n",
    "    [50, 20, 20, 5, 2, 1],\n",
    "    [50, 20, 20, 5, 2, 2],\n",
    "]"
   ]
  },
  {
   "cell_type": "markdown",
   "metadata": {},
   "source": [
    " <div style=\"padding:10px ;border:solid 4px lightblue; border-radius: 10px; background-color:aliceblue;\">\n",
    "\n",
    "### Question 2\n",
    "    \n",
    "Tester l'algorithme glouton précédent sur le système monétaire `valeurs=[10,6,1]` pour rendre une somme égale à 12."
   ]
  },
  {
   "cell_type": "code",
   "execution_count": null,
   "metadata": {},
   "outputs": [],
   "source": []
  },
  {
   "cell_type": "code",
   "execution_count": null,
   "metadata": {},
   "outputs": [],
   "source": [
    "# Jeu de test"
   ]
  },
  {
   "cell_type": "markdown",
   "metadata": {},
   "source": [
    "Est-ce la solution optimale ? Que peut-on en déduire ?"
   ]
  },
  {
   "cell_type": "raw",
   "metadata": {},
   "source": [
    "Réponse :\n"
   ]
  },
  {
   "cell_type": "markdown",
   "metadata": {},
   "source": [
    "# 2- Le problème du sac à dos\n",
    "Le problème du sac à dos, noté également KP (en anglais, Knapsack Problem) est un problème d'optimisation combinatoire. On dispose d’un sac à dos pouvant supporter un poids maximal donné et de divers objets ayant chacun une valeur et un poids. Il s’agit de choisir les objets à emporter dans le sac afin d’obtenir la valeur totale la plus grande tout en respectant la contrainte du poids maximal.\n",
    "\n",
    "Arsène Lupin a devant lui 7 objets dont les valeurs et masses sont indiquées dans le tableau ci-dessous. Il dispose d’un sac à dos de capacité maximale 10 kg. Il souhaite emporter dans son sac à dos les objets dont la valeurs est la plus grande possible tout en ne dépassant pas la capacité maximale du sac à dos.\n",
    "![image.png](images/2-image.png)"
   ]
  },
  {
   "cell_type": "markdown",
   "metadata": {},
   "source": [
    "##  Structure de données adaptée au problème du sac à dos\n",
    "On peut donner une liste de noms, de valeurs et de masses. Ces trois variables resteront inchangées donc on pourra là aussi les considérer comme variables globales (elles seront utilisées dans les fonctions mais n’apparaitrons pas dans les arguments des fonctions)."
   ]
  },
  {
   "cell_type": "markdown",
   "metadata": {},
   "source": [
    " <div style=\"padding:10px ;border:solid 4px lightblue; border-radius: 10px; background-color:aliceblue;\">\n",
    "\n",
    "### Question 3\n",
    "    \n",
    "Exécuter la cellule suivante pour utiliser les variables globales `noms`, `valeurs` et `masses` qui serviront pour toute la suite."
   ]
  },
  {
   "cell_type": "code",
   "execution_count": null,
   "metadata": {},
   "outputs": [],
   "source": [
    "noms = [\"A\", \"B\", \"C\", \"D\", \"E\", \"F\", \"G\"]\n",
    "valeurs = [10, 11, 23, 9, 30, 6, 8]\n",
    "masses = [2, 4.5, 5, 4, 9, 1, 2.5]"
   ]
  },
  {
   "cell_type": "markdown",
   "metadata": {},
   "source": [
    " <div style=\"padding:10px ;border:solid 4px lightblue; border-radius: 10px; background-color:aliceblue;\">\n",
    "\n",
    "### Question 4\n",
    "    \n",
    "Compléter la fonction ci-dessous qui prend comme arguments une liste de noms d’objets, et renvoie la valeur de ces objets. Elle devra renvoyer -1 si jamais la masse dépasse la masse maximale. On vérifiera cette fonction avec les résultats des trois premières questions de l’exercice 4 du cours (questions 1, 2 et 3)."
   ]
  },
  {
   "cell_type": "code",
   "execution_count": null,
   "metadata": {},
   "outputs": [],
   "source": [
    "def valeur(objets, masseMax):\n",
    "    \"\"\"In : une liste d'objets et un entier masseMax\n",
    "    Out: valeur totale des objets de la liste objets\n",
    "         si la masse des objets ne dépasse pas masseMax\n",
    "         -1 sinon\"\"\"\n",
    "    valeur = 0\n",
    "    masse = 0\n",
    "    for x in objets:\n",
    "        i = noms.index(x)  # indice de l'objet x\n",
    "        valeur = ...\n",
    "        masse = ...\n",
    "    if masse <= masseMax:\n",
    "        return ...\n",
    "    else:\n",
    "        return ..."
   ]
  },
  {
   "cell_type": "code",
   "execution_count": null,
   "metadata": {},
   "outputs": [],
   "source": [
    "# Jeu de tests (question 1 de l'ex 4 du cours)"
   ]
  },
  {
   "cell_type": "code",
   "execution_count": null,
   "metadata": {},
   "outputs": [],
   "source": [
    "# Jeu de tests (question 2 de l'ex 4 du cours)"
   ]
  },
  {
   "cell_type": "code",
   "execution_count": null,
   "metadata": {},
   "outputs": [],
   "source": [
    "# Jeu de tests (question 3 de l'ex 4 du cours)"
   ]
  },
  {
   "cell_type": "code",
   "execution_count": null,
   "metadata": {},
   "outputs": [],
   "source": [
    "# Jeu de tests (question 3 de l'ex 4 du cours)"
   ]
  },
  {
   "cell_type": "code",
   "execution_count": null,
   "metadata": {
    "deletable": false,
    "editable": false
   },
   "outputs": [],
   "source": [
    "# Test de la fonction précédente\n",
    "# me permet de voir que votre fonction à l'air correcte, c'est le cas si cette cellule ne renvoie pas d'erreur\n",
    "noms = [\"A\", \"B\", \"C\", \"D\", \"E\", \"F\", \"G\"]\n",
    "valeurs = [10, 11, 23, 9, 30, 6, 8]\n",
    "masses = [2, 4.5, 5, 4, 9, 1, 2.5]\n",
    "assert valeur([\"A\", \"B\", \"D\"], 10) == -1\n",
    "assert valeur([\"A\", \"D\", \"F\", \"G\"], 10) == 33\n",
    "assert valeur([\"A\", \"C\", \"F\"], 10) == 39\n",
    "assert valeur([\"A\", \"C\", \"G\"], 10) == 41"
   ]
  },
  {
   "cell_type": "markdown",
   "metadata": {},
   "source": [
    "On choisit la stratégie gloutonne suivante : Tant qu'il reste un objet transportable :\n",
    "- prendre l'objet qui a la plus grande valeur massique $\\mu=\\frac{valeur}{masse}$\n",
    "\n",
    "\n",
    "Pour appliquer cette stratégie, on va devoir trier par ordre décroissant les valeurs massiques. Mais pour ce faire, utilisons une fonction qui renvoie la liste des dictionnaires dont les clés sont le nom, la valeur, la masse et la valeur massique de chaque objet, triée par valeur massique décroissante."
   ]
  },
  {
   "cell_type": "markdown",
   "metadata": {},
   "source": [
    " <div style=\"padding:10px ;border:solid 4px lightblue; border-radius: 10px; background-color:aliceblue;\">\n",
    "\n",
    "### Question 5\n",
    "    \n",
    "Compléter la fonction ci-dessous puis la tester. Elle doit renvoyer une liste triée (par ordre décroissant des valeurs massiques) des objets (donnés sous forme de dictionnaires).\n",
    "\n",
    "On vérifera que cette liste est correctement trièe et que les valeurs massiques correspondent au tableau suivant :\n",
    "![image.png](images/3-image.png)"
   ]
  },
  {
   "cell_type": "code",
   "execution_count": null,
   "metadata": {},
   "outputs": [],
   "source": [
    "def listeDictionnaires():\n",
    "    \"\"\"Out: liste de dictionnaires dont les clés sont\n",
    "    nom, valeur, masse et valeurMassique\"\"\"\n",
    "    n = len(noms)  # nb d'objets\n",
    "    L = []\n",
    "    for i in range(n):\n",
    "        d = dict()\n",
    "        d[\"nom\"] = ...\n",
    "        d[\"valeur\"] = ...\n",
    "        d[\"masse\"] = ...\n",
    "        d[\"valeurMassique\"] = ...\n",
    "        L.append(...)\n",
    "    L.sort(key=lambda d: ..., reverse=True)\n",
    "    return L"
   ]
  },
  {
   "cell_type": "code",
   "execution_count": null,
   "metadata": {},
   "outputs": [],
   "source": [
    "# Test\n",
    "listeDictionnaires()"
   ]
  },
  {
   "cell_type": "code",
   "execution_count": null,
   "metadata": {},
   "outputs": [],
   "source": [
    "# Test en donnant chaque objet par ordre décroissant des valeurs massiques:\n",
    "for d in listeDictionnaires():\n",
    "    print(d)"
   ]
  },
  {
   "cell_type": "code",
   "execution_count": null,
   "metadata": {
    "deletable": false,
    "editable": false
   },
   "outputs": [],
   "source": [
    "# Test de la fonction précédente\n",
    "# me permet de voir que votre fonction à l'air correcte, c'est le cas si cette cellule ne renvoie pas d'erreur\n",
    "noms = [\"A\", \"B\", \"C\", \"D\", \"E\", \"F\", \"G\"]\n",
    "valeurs = [10, 11, 23, 9, 30, 6, 8]\n",
    "masses = [2, 4.5, 5, 4, 9, 1, 2.5]\n",
    "assert listeDictionnaires() == [\n",
    "    {\"nom\": \"F\", \"valeur\": 6, \"masse\": 1, \"valeurMassique\": 6.0},\n",
    "    {\"nom\": \"A\", \"valeur\": 10, \"masse\": 2, \"valeurMassique\": 5.0},\n",
    "    {\"nom\": \"C\", \"valeur\": 23, \"masse\": 5, \"valeurMassique\": 4.6},\n",
    "    {\"nom\": \"E\", \"valeur\": 30, \"masse\": 9, \"valeurMassique\": 3.3333333333333335},\n",
    "    {\"nom\": \"G\", \"valeur\": 8, \"masse\": 2.5, \"valeurMassique\": 3.2},\n",
    "    {\"nom\": \"B\", \"valeur\": 11, \"masse\": 4.5, \"valeurMassique\": 2.4444444444444446},\n",
    "    {\"nom\": \"D\", \"valeur\": 9, \"masse\": 4, \"valeurMassique\": 2.25},\n",
    "]"
   ]
  },
  {
   "cell_type": "markdown",
   "metadata": {},
   "source": [
    " <div style=\"padding:10px ;border:solid 4px lightblue; border-radius: 10px; background-color:aliceblue;\">\n",
    "\n",
    "### Question 6\n",
    "    \n",
    "Compléter la fonction suivante qui renvoie la liste des noms des objets à prendre selon l’algorithme glouton. Vérifier cette fonction avec le résultat de la question 3 de l’exercice 5."
   ]
  },
  {
   "cell_type": "code",
   "execution_count": null,
   "metadata": {},
   "outputs": [],
   "source": [
    "def sacAdosGlouton(masseMax):\n",
    "    \"\"\"In : un entier masseMax\n",
    "    Out: la liste des objets renvoyée par l'algo glouton\"\"\"\n",
    "    n = len(masses)  # nb d'objets\n",
    "    L = listeDictionnaires()\n",
    "    masseDuSac = 0\n",
    "    objetsAprendre = []\n",
    "    i = 0\n",
    "    while masseDuSac + L[i][\"masse\"] <= masseMax:\n",
    "        objetsAprendre.append(...)\n",
    "        masseDuSac = ...\n",
    "        i = ...\n",
    "    return objetsAprendre"
   ]
  },
  {
   "cell_type": "code",
   "execution_count": null,
   "metadata": {},
   "outputs": [],
   "source": [
    "# Test"
   ]
  },
  {
   "cell_type": "code",
   "execution_count": null,
   "metadata": {},
   "outputs": [],
   "source": [
    "# Test qui donne la valeur des objets renvoyée par l’algorithme glouton"
   ]
  },
  {
   "cell_type": "code",
   "execution_count": null,
   "metadata": {
    "deletable": false,
    "editable": false
   },
   "outputs": [],
   "source": [
    "# Test de la fonction précédente\n",
    "# me permet de voir que votre fonction à l'air correcte, c'est le cas si cette cellule ne renvoie pas d'erreur\n",
    "noms = [\"A\", \"B\", \"C\", \"D\", \"E\", \"F\", \"G\"]\n",
    "valeurs = [10, 11, 23, 9, 30, 6, 8]\n",
    "masses = [2, 4.5, 5, 4, 9, 1, 2.5]\n",
    "assert [sacAdosGlouton(x) for x in range(20)] == [\n",
    "    [],\n",
    "    [\"F\"],\n",
    "    [\"F\"],\n",
    "    [\"F\", \"A\"],\n",
    "    [\"F\", \"A\"],\n",
    "    [\"F\", \"A\"],\n",
    "    [\"F\", \"A\"],\n",
    "    [\"F\", \"A\"],\n",
    "    [\"F\", \"A\", \"C\"],\n",
    "    [\"F\", \"A\", \"C\"],\n",
    "    [\"F\", \"A\", \"C\"],\n",
    "    [\"F\", \"A\", \"C\"],\n",
    "    [\"F\", \"A\", \"C\"],\n",
    "    [\"F\", \"A\", \"C\"],\n",
    "    [\"F\", \"A\", \"C\"],\n",
    "    [\"F\", \"A\", \"C\"],\n",
    "    [\"F\", \"A\", \"C\"],\n",
    "    [\"F\", \"A\", \"C\", \"E\"],\n",
    "    [\"F\", \"A\", \"C\", \"E\"],\n",
    "    [\"F\", \"A\", \"C\", \"E\"],\n",
    "]"
   ]
  },
  {
   "cell_type": "markdown",
   "metadata": {},
   "source": [
    " <div style=\"padding:10px ;border:solid 4px lightblue; border-radius: 10px; background-color:aliceblue;\">\n",
    "\n",
    "### Question 7\n",
    "    \n",
    "L'algorithme glouton est-il optimal pour le problème du sac à dos ?"
   ]
  },
  {
   "cell_type": "raw",
   "metadata": {},
   "source": [
    "Réponse :\n"
   ]
  },
  {
   "cell_type": "markdown",
   "metadata": {},
   "source": [
    " <div style=\"padding:10px ;border:solid 4px lightblue; border-radius: 10px; background-color:aliceblue;\">\n",
    "\n",
    "### Question 8\n",
    "    \n",
    "Utiliser les fonctions précédentes pour savoir ce que renvoie l'algorithme glouton si le sac à dos a une capacité maximale de 17 kg ?"
   ]
  },
  {
   "cell_type": "code",
   "execution_count": null,
   "metadata": {},
   "outputs": [],
   "source": [
    "# Test"
   ]
  },
  {
   "cell_type": "code",
   "execution_count": null,
   "metadata": {},
   "outputs": [],
   "source": [
    "# Test qui donne la valeur des objets renvoyée par l’algorithme glouton"
   ]
  },
  {
   "cell_type": "markdown",
   "metadata": {},
   "source": [
    " <div style=\"padding:10px ;border:solid 4px lightblue; border-radius: 10px; background-color:aliceblue;\">\n",
    "\n",
    "### Question 9\n",
    "    \n",
    "La fonction `sacAdosForceBrut` ci-dessous teste tous les cas et renvoie la liste des objets de valeur maximale (on ne vous demande pas de comprendre le code).\n",
    "\n",
    "On reste avec un sac à dos de capacité maximale 17kg.\n",
    "\n",
    "Tester la fonction `sacAdosForceBrut` pour savoir si l'algorithme glouton a renvoyé ou non la valeur maximale.\n",
    "\n",
    "Pour info, le module `itertools` met à disposisition des fonctions (ici `product`) qui permettent de faire en une fois plusieurs boucles (ici 7 pour tester tous les cas), cela facilite le code (imaginez 7 boucles `for` imbriquées) mais ne rend pas plus rapide l'exécution. Il y a, comme on l'a vu $2^7=128$ tests à effectuer. Donc on évitera de tester cette fonction avec 100 objets !"
   ]
  },
  {
   "cell_type": "code",
   "execution_count": null,
   "metadata": {},
   "outputs": [],
   "source": [
    "from itertools import product\n",
    "\n",
    "\n",
    "def listeDobjets(nUpletsDobjets):  # fonction qui sert à sacAdosForceBrut\n",
    "    \"\"\"In : un n uplets de 0 et 1, une liste de noms\n",
    "    Out: une liste des noms d'objets correspondant aux 1\"\"\"\n",
    "    objets = []\n",
    "    for i in range(len(nUpletsDobjets)):\n",
    "        if nUpletsDobjets[i] == 1:\n",
    "            objets.append(noms[i])\n",
    "    return objets\n",
    "\n",
    "\n",
    "def objetsValide(nUpletsDobjets, masseMax):  # fonction qui sert à sacAdosForceBrut\n",
    "    \"\"\"In : un n uplets de 0 et 1, une liste de masses, un entier masseMax\n",
    "    Out: vraie si tous les objets associés à 1 peuvent être mis dans le sac\"\"\"\n",
    "    masse = 0\n",
    "    for i in range(len(nUpletsDobjets)):\n",
    "        if nUpletsDobjets[i] == 1:\n",
    "            masse += masses[i]\n",
    "    return masse <= masseMax\n",
    "\n",
    "\n",
    "def valeurBis(nUpletsDobjets):  # fonction qui sert à sacAdosForceBrut\n",
    "    \"\"\"In : un n uplets de 0 et 1, une liste de valeurs\n",
    "    Out: la valeur totale des objets asssociés aux 1\"\"\"\n",
    "    val = 0\n",
    "    for i in range(len(nUpletsDobjets)):\n",
    "        if nUpletsDobjets[i] == 1:\n",
    "            val += valeurs[i]\n",
    "    return val\n",
    "\n",
    "\n",
    "def sacAdosForceBrut(masseMax):\n",
    "    \"\"\"In : une liste de masses, une liste de valeurs, un entier masseMax\n",
    "    Out: la liste des objets de valeur maximale en testant tous les cas\"\"\"\n",
    "    n = len(masses)  # nb d'objets\n",
    "    objets = []\n",
    "    valeur_max = 0\n",
    "    for p in product(\n",
    "        [0, 1], repeat=n\n",
    "    ):  # pour chaque élt p du produit cartésien [0,1]^n\n",
    "        if objetsValide(p, masseMax):\n",
    "            val = valeurBis(p)\n",
    "            if val > valeur_max:\n",
    "                valeur_max = val\n",
    "                objets = listeDobjets(p)\n",
    "    return objets"
   ]
  },
  {
   "cell_type": "code",
   "execution_count": null,
   "metadata": {},
   "outputs": [],
   "source": [
    "# Jeu de test"
   ]
  },
  {
   "cell_type": "code",
   "execution_count": null,
   "metadata": {},
   "outputs": [],
   "source": [
    "# Test qui donne la valeur des objets renvoyée par l’algorithme glouton"
   ]
  },
  {
   "cell_type": "raw",
   "metadata": {},
   "source": [
    "Réponse à la question : l'algo glouton a-t-il donné la solution optimale pour une capacité max de 17 kg ?\n"
   ]
  },
  {
   "cell_type": "markdown",
   "metadata": {},
   "source": [
    " <div style=\"padding:10px ;border:solid 4px lightblue; border-radius: 10px; background-color:aliceblue;\">\n",
    "\n",
    "### Question 10\n",
    "    \n",
    "En utilisant les fonctions précédentes, dire si l'algorithme glouton renvoie la valeur optimale pour une capacité maximale de 40 kg avec les six objets suivants :\n",
    "![image.png](images/4-image.png)"
   ]
  },
  {
   "cell_type": "code",
   "execution_count": null,
   "metadata": {},
   "outputs": [],
   "source": [
    "# Test de l’algorithme glouton"
   ]
  },
  {
   "cell_type": "code",
   "execution_count": null,
   "metadata": {},
   "outputs": [],
   "source": [
    "# Test qui donne la valeur des objets renvoyée par l’algorithme glouton"
   ]
  },
  {
   "cell_type": "code",
   "execution_count": null,
   "metadata": {},
   "outputs": [],
   "source": [
    "# Jeu de test de force brute"
   ]
  },
  {
   "cell_type": "code",
   "execution_count": null,
   "metadata": {},
   "outputs": [],
   "source": [
    "# Test qui donne la valeur des objets renvoyée par l’algorithme force brute"
   ]
  },
  {
   "cell_type": "raw",
   "metadata": {},
   "source": [
    "Réponse :\n",
    "\n"
   ]
  },
  {
   "cell_type": "markdown",
   "metadata": {},
   "source": [
    "# 3- Le problème du voyageur de commerce\n",
    "- En informatique, le problème du voyageur de commerce, est un des problèmes d’optimisation les plus connus.\n",
    "- C’est déjà sous forme de jeu que William Rowan Hamilton a posé pour la première fois ce problème, dès 1859.\n",
    "- Sous sa forme la plus classique, son énoncé est le suivant : « Un voyageur de commerce doit visiter une et une seule fois un nombre fini de villes et revenir à son point d’origine. Il s’agit de déterminer l’ordre de visite des villes qui minimise la distance totale parcourue par le voyageur ».\n",
    "- Voici une situation concrète. Nous partons de Nancy et devons nous rendre à Metz, à Paris, à Reims et à Troyes avant de retourner à Nancy. Le tableau des distances routières kilométriques entre ces différentes villes est le suivant :\n",
    "![image.png](images/5-image.png)\n",
    "Une manière simple d’aborder le problème consiste à énumérer tous les ordres possibles, à calculer pour chacun la distance correspondante, pour sélectionner ensuite la plus petite. C’est ce qu’on appelle la force brute."
   ]
  },
  {
   "cell_type": "markdown",
   "metadata": {},
   "source": [
    " <div style=\"padding:10px ;border:solid 4px lightblue; border-radius: 10px; background-color:aliceblue;\">\n",
    "\n",
    "### Question 11\n",
    "Quelle distance correspond au trajet ci-dessous ?\n",
    "    \n",
    "Nancy -> Metz -> Paris -> Reims -> Troyes -> Nancy"
   ]
  },
  {
   "cell_type": "raw",
   "metadata": {},
   "source": [
    "Réponse :\n"
   ]
  },
  {
   "cell_type": "markdown",
   "metadata": {},
   "source": [
    " <div style=\"padding:10px ;border:solid 4px lightblue; border-radius: 10px; background-color:aliceblue;\">\n",
    "\n",
    "### Question 12\n",
    "Proposer un autre trajet et calculer sa distance"
   ]
  },
  {
   "cell_type": "raw",
   "metadata": {},
   "source": [
    "Réponse :\n",
    "\n"
   ]
  },
  {
   "cell_type": "markdown",
   "metadata": {},
   "source": [
    " <div style=\"padding:10px ;border:solid 4px lightblue; border-radius: 10px; background-color:aliceblue;\">\n",
    "\n",
    "### Question 13\n",
    "3.\tDonner un trajet qui vous semblerait le plus court et calculer sa distance"
   ]
  },
  {
   "cell_type": "raw",
   "metadata": {},
   "source": [
    "Réponse :\n",
    "\n"
   ]
  },
  {
   "cell_type": "markdown",
   "metadata": {},
   "source": [
    " <div style=\"padding:10px ;border:solid 4px lightblue; border-radius: 10px; background-color:aliceblue;\">\n",
    "\n",
    "### Question 14\n",
    "Combien y a-t-il de trajets au total ?"
   ]
  },
  {
   "cell_type": "raw",
   "metadata": {},
   "source": [
    "Réponse : \n"
   ]
  },
  {
   "cell_type": "markdown",
   "metadata": {},
   "source": [
    " <div style=\"padding:10px ;border:solid 4px lightblue; border-radius: 10px; background-color:aliceblue;\">\n",
    "\n",
    "### Question 15\n",
    "Plus généralement, pour $n$ villes, combien y aurait-il de trajets à examiner ?"
   ]
  },
  {
   "cell_type": "raw",
   "metadata": {},
   "source": [
    "Réponse : \n"
   ]
  },
  {
   "cell_type": "markdown",
   "metadata": {},
   "source": [
    " <div style=\"padding:10px ;border:solid 4px lightblue; border-radius: 10px; background-color:aliceblue;\">\n",
    "\n",
    "### Question 16\n",
    "On se place dans le cas particulier de $n=20$ villes. En supposant que l’ordinateur mette 0,001 seconde pour examiner un trajet, combien de temps faudrait-il attendre pour examiner tous les trajets ?"
   ]
  },
  {
   "cell_type": "raw",
   "metadata": {},
   "source": [
    "Réponse : \n"
   ]
  },
  {
   "cell_type": "markdown",
   "metadata": {},
   "source": [
    "Appliquons l’approche gloutonne à notre problème du voyageur de commerce. Le problème considéré est la visite de l’ensemble des villes, depuis une ville de départ déterminée et avec retour à cette ville. Une solution est donc n’importe quelle séquence passant par toutes les villes intermédiaires demandées, qu’on peut ramener à la succession de choix « quelle sera ma prochaine étape ? »."
   ]
  },
  {
   "cell_type": "markdown",
   "metadata": {},
   "source": [
    "### Principe de l'algorithme glouton du voyageur de commerce"
   ]
  },
  {
   "cell_type": "markdown",
   "metadata": {},
   "source": [
    " <div style=\"padding:10px ;border:solid 4px lightblue; border-radius: 10px; background-color:aliceblue;\">\n",
    "\n",
    "### Question 17\n",
    "Compléter :\n",
    "- Partant de la ville de départ, aller à la ville la plus . . . . . . . ,\n",
    "- Puis aller à la ville la plus . . . . . . . de cette dernière parmi les villes non encore visitées, et ainsi de suite"
   ]
  },
  {
   "cell_type": "raw",
   "metadata": {},
   "source": [
    "Réponse :\n"
   ]
  },
  {
   "cell_type": "markdown",
   "metadata": {},
   "source": [
    " <div style=\"padding:10px ;border:solid 4px lightblue; border-radius: 10px; background-color:aliceblue;\">\n",
    "\n",
    "### Question 18\n",
    "Quel va être le trajet que va renvoyer cet algorithme glouton et quelle est sa distance ?\n",
    "<i>Réponse à détailler par étapes de l'algorithme glouton.<i>"
   ]
  },
  {
   "cell_type": "raw",
   "metadata": {},
   "source": [
    "Réponse :\n"
   ]
  },
  {
   "cell_type": "markdown",
   "metadata": {},
   "source": [
    " <div style=\"padding:10px ;border:solid 4px lightblue; border-radius: 10px; background-color:aliceblue;\">\n",
    "\n",
    "### Question 19\n",
    "- Cette distance que renvoie l’algorithme glouton est-elle optimale ?\n",
    "- Vous parait-elle acceptable ?"
   ]
  },
  {
   "cell_type": "raw",
   "metadata": {},
   "source": [
    "Réponse :\n",
    "- \n",
    "- "
   ]
  },
  {
   "cell_type": "markdown",
   "metadata": {},
   "source": [
    "##  Structure de données adaptée au problème du voyageur de commerce\n",
    "-\tOn commence par numéroter les villes : \n",
    "0 pour Nancy, 1 pour Metz, 2 pour Paris, 3 pour Reims et 4 pour Troyes\n",
    "- On pourra donc créer la liste suivante qui permettra de faire l’association entre le numéro de la ville et la ville :\n",
    "```Python\n",
    "villes=['Nancy','Metz','Paris','Reims','Troyes']\n",
    "```\n",
    "-\tEnsuite, on stocke les distances entre chaque ville. Pour cela, on peut créer une liste de listes, comme ceci :\n",
    "l’association entre le numéro de la ville et la ville :\n",
    "```Python\n",
    "L=[ \n",
    "    [0,55,303,188,183],\n",
    "    [55,0,306,176,203],\n",
    "    [303,306,0,142,153],\n",
    "    [188,176,142,0,123],\n",
    "    [183,203,153,123,0]\n",
    "]\n",
    "```\n",
    "- Ainsi, `L[i][j]` est la distance entre la ville numéro `i` et la ville numéro `j`.\n",
    "- Un trajet sera une liste du numéro des villes. Par exemple, le trajet `[0,1,2,3,4,0]` correspond au trajet : \n",
    "Nancy -> Metz -> Paris -> Reims -> Troyes -> Nancy"
   ]
  },
  {
   "cell_type": "markdown",
   "metadata": {},
   "source": [
    " <div style=\"padding:10px ;border:solid 4px lightblue; border-radius: 10px; background-color:aliceblue;\">\n",
    "\n",
    "### Question 20\n",
    "Exécuter la cellule suivante pour pouvoir utiliser les deux variables `villes` et `L`."
   ]
  },
  {
   "cell_type": "code",
   "execution_count": null,
   "metadata": {},
   "outputs": [],
   "source": [
    "villes = [\"Nancy\", \"Metz\", \"Paris\", \"Reims\", \"Troyes\"]\n",
    "L = [\n",
    "    [0, 55, 303, 188, 183],\n",
    "    [55, 0, 306, 176, 203],\n",
    "    [303, 306, 0, 142, 153],\n",
    "    [188, 176, 142, 0, 123],\n",
    "    [183, 203, 153, 123, 0],\n",
    "]"
   ]
  },
  {
   "cell_type": "markdown",
   "metadata": {},
   "source": [
    " <div style=\"padding:10px ;border:solid 4px lightblue; border-radius: 10px; background-color:aliceblue;\">\n",
    "\n",
    "### Question 21\n",
    "Écrire une fonction `distanceTrajet` qui prend comme argument une liste `trajet` et qui renvoie la distance totale du trajet. On vérifiera cette fonction avec les résultats obtenus par les questions 11, 12 et 13."
   ]
  },
  {
   "cell_type": "code",
   "execution_count": null,
   "metadata": {},
   "outputs": [],
   "source": [
    "def distanceTrajet(trajet):\n",
    "    \"\"\"In : une liste trajet\n",
    "    Out: la distance totale du trajet\"\"\"\n",
    "    pass"
   ]
  },
  {
   "cell_type": "code",
   "execution_count": null,
   "metadata": {},
   "outputs": [],
   "source": [
    "# Jeu de test correspondant à la question 11"
   ]
  },
  {
   "cell_type": "code",
   "execution_count": null,
   "metadata": {},
   "outputs": [],
   "source": [
    "# Jeu de test correspondant à la question 12"
   ]
  },
  {
   "cell_type": "code",
   "execution_count": null,
   "metadata": {},
   "outputs": [],
   "source": [
    "# Jeu de test correspondant à la question 13"
   ]
  },
  {
   "cell_type": "code",
   "execution_count": null,
   "metadata": {
    "deletable": false,
    "editable": false
   },
   "outputs": [],
   "source": [
    "# Test de la fonction précédente\n",
    "# me permet de voir que votre fonction à l'air correcte, c'est le cas si cette cellule ne renvoie pas d'erreur\n",
    "villes = [\"Nancy\", \"Metz\", \"Paris\", \"Reims\", \"Troyes\"]\n",
    "L = [\n",
    "    [0, 55, 303, 188, 183],\n",
    "    [55, 0, 306, 176, 203],\n",
    "    [303, 306, 0, 142, 153],\n",
    "    [188, 176, 142, 0, 123],\n",
    "    [183, 203, 153, 123, 0],\n",
    "]\n",
    "assert distanceTrajet([0, 1, 2, 3, 4, 0]) == 809\n",
    "assert distanceTrajet([0, 3, 2, 4, 1, 0]) == 741\n",
    "assert distanceTrajet([0, 4, 2, 3, 1, 0]) == 709"
   ]
  },
  {
   "cell_type": "markdown",
   "metadata": {},
   "source": [
    " <div style=\"padding:10px ;border:solid 4px lightblue; border-radius: 10px; background-color:aliceblue;\">\n",
    "\n",
    "### Question 22\n",
    "Compléter la fonction `afficheDistanceTrajet` qui prend comme arguments une liste `trajet` et qui affiche le trajet ainsi que sa distance totale. On vérifiera également cette fonction avec les résultats obtenus par les questions 11, 12 et 13."
   ]
  },
  {
   "cell_type": "code",
   "execution_count": null,
   "metadata": {},
   "outputs": [],
   "source": [
    "def afficheDistanceTrajet(trajet):\n",
    "    \"\"\"In : une liste trajet\n",
    "    Act: affiche le trajet et sa distance totale\"\"\"\n",
    "    for i in trajet:\n",
    "        print(..., \"->\", end=\"\")  # seule ligne à compléter\n",
    "    print(distanceTrajet(trajet), \"km\")"
   ]
  },
  {
   "cell_type": "code",
   "execution_count": null,
   "metadata": {},
   "outputs": [],
   "source": [
    "# Jeu de test correspondant à la question 11"
   ]
  },
  {
   "cell_type": "code",
   "execution_count": null,
   "metadata": {},
   "outputs": [],
   "source": [
    "# Jeu de test correspondant à la question 12"
   ]
  },
  {
   "cell_type": "code",
   "execution_count": null,
   "metadata": {},
   "outputs": [],
   "source": [
    "# Jeu de test correspondant à la question 13"
   ]
  },
  {
   "cell_type": "markdown",
   "metadata": {},
   "source": [
    " <div style=\"padding:10px ;border:solid 4px lightblue; border-radius: 10px; background-color:aliceblue;\">\n",
    "\n",
    "### Question 23\n",
    "- La fonction `plusProche` aura pour argument une liste de booléens visitees indiquant pour chaque ville (donnée par son numéro) si elle a déjà été visitée ou non.\n",
    "- Par exemple, la liste `visitees=[True,True,False,False,False]` signifie que seules les villes numéros 0 et 1 (Nancy et Metz) ont été visitées.\n",
    "- Compléter puis tester la fonction `plusProche` qui prend comme arguments un numéro ville et une liste de booléens `visitees` et qui renvoie le numéro de la ville la plus proche de `ville` parmi celles non encore visitées (on suppose qu’il reste encore des villes à visiter).\n",
    "- Par exemple, `plusProche(1,[True,True,False,False,False])` devra renvoyer 3 correspondant à Reims. En effet, Reims est la ville la plus proche de la ville numéro 1 (Metz) parmi les villes non encore visitées.\n",
    "\n",
    "- Pour cela, pour chaque ville non encore visitée, on va calculer la distance à `ville`, et on mémorisera la distance la plus courte ainsi que la ville la plus proche. Voilà pourquoi, on part d’une distance `dist_min` (ici 10000) assez grande qu’on va modifier peu à peu ainsi qu’une villePlusProche qu’on met à -1 mais que l’on modifiera également.\n"
   ]
  },
  {
   "cell_type": "code",
   "execution_count": null,
   "metadata": {},
   "outputs": [],
   "source": [
    "def plusProche(ville, visitees):\n",
    "    \"\"\"In : un numéro ville et une liste de booléens visitees\n",
    "    Out: le numéro de la ville la + proche de ville\n",
    "         parmi les villes non visitées\"\"\"\n",
    "    dist_min = 100000  # on part d'une distance_min très grande\n",
    "    villePlusProche = -1\n",
    "    for i in range(len(visitees)):\n",
    "        if not ...:\n",
    "            d = L[...][...]\n",
    "            if ...:\n",
    "                ...\n",
    "                ...\n",
    "    return villePlusProche"
   ]
  },
  {
   "cell_type": "code",
   "execution_count": null,
   "metadata": {},
   "outputs": [],
   "source": [
    "# Jeu de tests"
   ]
  },
  {
   "cell_type": "code",
   "execution_count": null,
   "metadata": {},
   "outputs": [],
   "source": [
    "# Jeu de tests"
   ]
  },
  {
   "cell_type": "code",
   "execution_count": null,
   "metadata": {
    "deletable": false,
    "editable": false
   },
   "outputs": [],
   "source": [
    "# Test de la fonction précédente\n",
    "# me permet de voir que votre fonction à l'air correcte, c'est le cas si cette cellule ne renvoie pas d'erreur\n",
    "villes = [\"Nancy\", \"Metz\", \"Paris\", \"Reims\", \"Troyes\"]\n",
    "L = [\n",
    "    [0, 55, 303, 188, 183],\n",
    "    [55, 0, 306, 176, 203],\n",
    "    [303, 306, 0, 142, 153],\n",
    "    [188, 176, 142, 0, 123],\n",
    "    [183, 203, 153, 123, 0],\n",
    "]\n",
    "assert [plusProche(i, [True, True, False, False, False]) for i in range(5)] == [\n",
    "    4,\n",
    "    3,\n",
    "    2,\n",
    "    3,\n",
    "    4,\n",
    "]\n",
    "assert [plusProche(i, [False, False, False, False, False]) for i in range(5)] == [\n",
    "    0,\n",
    "    1,\n",
    "    2,\n",
    "    3,\n",
    "    4,\n",
    "]"
   ]
  },
  {
   "cell_type": "markdown",
   "metadata": {},
   "source": [
    " <div style=\"padding:10px ;border:solid 4px lightblue; border-radius: 10px; background-color:aliceblue;\">\n",
    "\n",
    "### Question 24\n",
    "On arrive enfin à la fonction principale: `voyageurGlouton`.\n",
    "\n",
    "Compléter et tester cette fonction qui renvoie le trajet renvoyé par la méthode gloutonne."
   ]
  },
  {
   "cell_type": "code",
   "execution_count": null,
   "metadata": {},
   "outputs": [],
   "source": [
    "def voyageurGlouton():\n",
    "    \"\"\"Out: le trajet renvoyé par l'algo glouton\"\"\"\n",
    "    trajet = [0]\n",
    "    n = len(L)\n",
    "    visitees = [False for i in range(n)]\n",
    "    ville = 0\n",
    "    for i in range(n - 1):\n",
    "        visitees[ville] = ...\n",
    "        suivante = plusProche(..., ...)\n",
    "        trajet.append(...)\n",
    "        ville = ...\n",
    "    trajet.append(0)\n",
    "    return trajet"
   ]
  },
  {
   "cell_type": "code",
   "execution_count": null,
   "metadata": {},
   "outputs": [],
   "source": [
    "# Jeu de test"
   ]
  },
  {
   "cell_type": "code",
   "execution_count": null,
   "metadata": {},
   "outputs": [],
   "source": [
    "# affichage du trajet avec la fonction afficheDistanceTrajet"
   ]
  },
  {
   "cell_type": "code",
   "execution_count": null,
   "metadata": {
    "deletable": false,
    "editable": false
   },
   "outputs": [],
   "source": [
    "# Test de la fonction précédente\n",
    "# me permet de voir que votre fonction à l'air correcte, c'est le cas si cette cellule ne renvoie pas d'erreur\n",
    "villes = [\"Nancy\", \"Metz\", \"Paris\", \"Reims\", \"Troyes\"]\n",
    "L = [\n",
    "    [0, 55, 303, 188, 183],\n",
    "    [55, 0, 306, 176, 203],\n",
    "    [303, 306, 0, 142, 153],\n",
    "    [188, 176, 142, 0, 123],\n",
    "    [183, 203, 153, 123, 0],\n",
    "]\n",
    "assert voyageurGlouton() == [0, 1, 3, 4, 2, 0]"
   ]
  },
  {
   "cell_type": "markdown",
   "metadata": {},
   "source": [
    "## L'algorithme force brute\n",
    "- Pour obtenir le trajet optimal en analysant toutes les possibilités (ce qui est faisable ici puisqu’il n’y a que 5 villes), il faudrait a priori 4 boucles emboîtées (correspondant aux numéros des 4 villes autres que Nancy) :\n",
    "```Python\n",
    "for i1 in range(1,5):\n",
    "    for i2 in range(1,5):\n",
    "        if i2!=i1:\n",
    "            for i3 in range(1,5):\n",
    "                if i3!=i1 and i3!=i2:\n",
    "                    for i4 in range(1,5):\n",
    "                        if i4!=i1 and i4!=i2 and i4!=i3:\n",
    "```\n",
    "- Les conditions `if i4!=i1 and i4!=i2 and i4!=i3:` sont là pour éviter d’avoir un trajet avec 2 fois la même ville (autre que Nancy).\n",
    "- Plutôt que de faire ces 4 boucles emboîtées, on va utiliser la fonction permutations du module itertools. C’est un module que je vous conseille de retenir si un jour vous avez pleins de boucles emboîtées à faire.\n",
    "- Après avoir importé la fonction `permutations` du module `itertools`, les 4 boucles emboîtées peuvent simplement se remplacer par l’instruction :\n",
    "```Python\n",
    "for i1,i2,i3,i4 in permutations([1,2,3,4]):\n",
    "```"
   ]
  },
  {
   "cell_type": "markdown",
   "metadata": {},
   "source": [
    " <div style=\"padding:10px ;border:solid 4px lightblue; border-radius: 10px; background-color:aliceblue;\">\n",
    "\n",
    "### Question 25\n",
    "Exécuter la cellule suivante pour tester la boucle et constater qu'on obtient toutes les permuations de l'ensemble {1,2,3,4} qui permettra de tester tous les trajets possibles."
   ]
  },
  {
   "cell_type": "code",
   "execution_count": null,
   "metadata": {},
   "outputs": [],
   "source": [
    "from itertools import permutations\n",
    "\n",
    "for i1, i2, i3, i4 in permutations([1, 2, 3, 4]):\n",
    "    print(i1, i2, i3, i4)"
   ]
  },
  {
   "cell_type": "markdown",
   "metadata": {},
   "source": [
    " <div style=\"padding:10px ;border:solid 4px lightblue; border-radius: 10px; background-color:aliceblue;\">\n",
    "\n",
    "### Question 26\n",
    "- Compléter puis tester la fonction ci-dessous pour qu’elle analyse tous les trajets et renvoie le trajet optimal.\n",
    "    \n",
    "- L’idée de cet algorithme est de partir d’un trajet `trajet_min` et d’une distance minimale `dist_min` et d'examiner toutes les possibilités de trajets en mettant à jour ces deux variables `trajet_min` et `dist_min` dès qu'on obtient un trajet plus court."
   ]
  },
  {
   "cell_type": "code",
   "execution_count": null,
   "metadata": {},
   "outputs": [],
   "source": [
    "def forceBrute():\n",
    "    \"\"\"Out: le trajet de distance minimale\"\"\"\n",
    "    trajet_min = [0, 1, 2, 3, 4, 0]\n",
    "    dist_min = distanceTrajet(trajet_min)\n",
    "    for i1, i2, i3, i4 in permutations([1, 2, 3, 4]):\n",
    "        trajet = [0, i1, i2, i3, i4, 0]\n",
    "        d = distanceTrajet(trajet)\n",
    "        if d < dist_min:\n",
    "            dist_min = ...\n",
    "            trajet_min = ...\n",
    "    return trajet_min"
   ]
  },
  {
   "cell_type": "code",
   "execution_count": null,
   "metadata": {},
   "outputs": [],
   "source": [
    "# Jeu de test"
   ]
  },
  {
   "cell_type": "code",
   "execution_count": null,
   "metadata": {},
   "outputs": [],
   "source": [
    "# affichage du trajet avec la fonction afficheDistanceTrajet"
   ]
  },
  {
   "cell_type": "markdown",
   "metadata": {},
   "source": [
    " <div style=\"padding:10px ;border:solid 4px lightblue; border-radius: 10px; background-color:aliceblue;\">\n",
    "\n",
    "### Question 27\n",
    "Quelle est finalement le trajet optimale ?"
   ]
  },
  {
   "cell_type": "raw",
   "metadata": {},
   "source": [
    "Réponse:\n",
    "\n"
   ]
  },
  {
   "cell_type": "markdown",
   "metadata": {},
   "source": [
    " <div style=\"padding:10px ;border:solid 4px lightblue; border-radius: 10px; background-color:aliceblue;\">\n",
    "\n",
    "### Question 28\n",
    "- En cherchant sur le WEB, déterminer les 8 villes françaises les plus peuplées puis déterminer leurs distances entre elles.\n",
    "\n",
    "- Vous partez de Montpellier et vous devez vous rendre dans chacune de ces villes en revenant à Montpellier.\n",
    "\n",
    "- Déterminer le trajet obtenu (et sa distance) par l'algorithme glouton."
   ]
  },
  {
   "cell_type": "code",
   "execution_count": null,
   "metadata": {},
   "outputs": [],
   "source": [
    "# liste des villes et listes des distances"
   ]
  },
  {
   "cell_type": "code",
   "execution_count": null,
   "metadata": {},
   "outputs": [],
   "source": [
    "# affichage du trajet avec la fonction afficheDistanceTrajet"
   ]
  },
  {
   "cell_type": "markdown",
   "metadata": {},
   "source": [
    " <div style=\"padding:10px ;border:solid 4px lightblue; border-radius: 10px; background-color:aliceblue;\">\n",
    "\n",
    "### Question 29\n",
    "Adapater la fonction `forceBrute` à 8 villes, au lieu de 5 puis donner le trajet minimale et le comparer avec celui renvoyé par l'algorithme glouton."
   ]
  },
  {
   "cell_type": "code",
   "execution_count": null,
   "metadata": {},
   "outputs": [],
   "source": [
    "def forceBrute():\n",
    "    \"\"\"Out: le trajet de distance minimale\"\"\"\n",
    "    pass"
   ]
  },
  {
   "cell_type": "code",
   "execution_count": null,
   "metadata": {},
   "outputs": [],
   "source": [
    "# affichage du trajet avec la fonction afficheDistanceTrajet"
   ]
  },
  {
   "cell_type": "raw",
   "metadata": {},
   "source": [
    "Comparaison des trajets renvoyés par les algorithmes glouton et forcebrute :\n"
   ]
  },
  {
   "cell_type": "code",
   "execution_count": null,
   "metadata": {},
   "outputs": [],
   "source": []
  }
 ],
 "metadata": {
  "celltoolbar": "Éditer les Méta-Données",
  "kernelspec": {
   "display_name": "Python 3",
   "language": "python",
   "name": "python3"
  }
 },
 "nbformat": 4,
 "nbformat_minor": 2
}
